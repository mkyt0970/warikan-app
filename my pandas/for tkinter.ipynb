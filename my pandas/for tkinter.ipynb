{
 "cells": [
  {
   "cell_type": "code",
   "execution_count": 8,
   "id": "6669c259-fcd9-454d-9607-b7a138716fc5",
   "metadata": {},
   "outputs": [],
   "source": [
    "import pandas as pd"
   ]
  },
  {
   "cell_type": "code",
   "execution_count": 14,
   "id": "28f8bbaa-a6c0-4c29-b547-a3f3074660e5",
   "metadata": {},
   "outputs": [],
   "source": [
    "df=pd.read_excel('userdata.xlsx')"
   ]
  },
  {
   "cell_type": "code",
   "execution_count": 15,
   "id": "580caf1e-e379-48ae-bdb4-b6a847328f85",
   "metadata": {},
   "outputs": [
    {
     "data": {
      "text/html": [
       "<div>\n",
       "<style scoped>\n",
       "    .dataframe tbody tr th:only-of-type {\n",
       "        vertical-align: middle;\n",
       "    }\n",
       "\n",
       "    .dataframe tbody tr th {\n",
       "        vertical-align: top;\n",
       "    }\n",
       "\n",
       "    .dataframe thead th {\n",
       "        text-align: right;\n",
       "    }\n",
       "</style>\n",
       "<table border=\"1\" class=\"dataframe\">\n",
       "  <thead>\n",
       "    <tr style=\"text-align: right;\">\n",
       "      <th></th>\n",
       "      <th>ユーザーID</th>\n",
       "      <th>年齢</th>\n",
       "      <th>住所</th>\n",
       "      <th>血液型</th>\n",
       "    </tr>\n",
       "  </thead>\n",
       "  <tbody>\n",
       "    <tr>\n",
       "      <th>0</th>\n",
       "      <td>佐藤</td>\n",
       "      <td>21</td>\n",
       "      <td>東京</td>\n",
       "      <td>A</td>\n",
       "    </tr>\n",
       "    <tr>\n",
       "      <th>1</th>\n",
       "      <td>田中</td>\n",
       "      <td>35</td>\n",
       "      <td>神奈川</td>\n",
       "      <td>A</td>\n",
       "    </tr>\n",
       "    <tr>\n",
       "      <th>2</th>\n",
       "      <td>鈴木</td>\n",
       "      <td>23</td>\n",
       "      <td>埼玉</td>\n",
       "      <td>AB</td>\n",
       "    </tr>\n",
       "    <tr>\n",
       "      <th>3</th>\n",
       "      <td>向井</td>\n",
       "      <td>18</td>\n",
       "      <td>千葉</td>\n",
       "      <td>O</td>\n",
       "    </tr>\n",
       "  </tbody>\n",
       "</table>\n",
       "</div>"
      ],
      "text/plain": [
       "  ユーザーID  年齢   住所 血液型\n",
       "0     佐藤  21   東京   A\n",
       "1     田中  35  神奈川   A\n",
       "2     鈴木  23   埼玉  AB\n",
       "3     向井  18   千葉   O"
      ]
     },
     "metadata": {},
     "output_type": "display_data"
    }
   ],
   "source": [
    "display(df)"
   ]
  },
  {
   "cell_type": "code",
   "execution_count": 16,
   "id": "03a66617-8c65-48e0-9cd0-5daee1438c27",
   "metadata": {},
   "outputs": [
    {
     "data": {
      "text/html": [
       "<div>\n",
       "<style scoped>\n",
       "    .dataframe tbody tr th:only-of-type {\n",
       "        vertical-align: middle;\n",
       "    }\n",
       "\n",
       "    .dataframe tbody tr th {\n",
       "        vertical-align: top;\n",
       "    }\n",
       "\n",
       "    .dataframe thead th {\n",
       "        text-align: right;\n",
       "    }\n",
       "</style>\n",
       "<table border=\"1\" class=\"dataframe\">\n",
       "  <thead>\n",
       "    <tr style=\"text-align: right;\">\n",
       "      <th></th>\n",
       "      <th>ユーザーID</th>\n",
       "      <th>年齢</th>\n",
       "      <th>住所</th>\n",
       "      <th>血液型</th>\n",
       "    </tr>\n",
       "  </thead>\n",
       "  <tbody>\n",
       "    <tr>\n",
       "      <th>0</th>\n",
       "      <td>佐藤</td>\n",
       "      <td>21</td>\n",
       "      <td>東京</td>\n",
       "      <td>A</td>\n",
       "    </tr>\n",
       "    <tr>\n",
       "      <th>1</th>\n",
       "      <td>田中</td>\n",
       "      <td>35</td>\n",
       "      <td>神奈川</td>\n",
       "      <td>A</td>\n",
       "    </tr>\n",
       "    <tr>\n",
       "      <th>2</th>\n",
       "      <td>鈴木</td>\n",
       "      <td>23</td>\n",
       "      <td>埼玉</td>\n",
       "      <td>AB</td>\n",
       "    </tr>\n",
       "  </tbody>\n",
       "</table>\n",
       "</div>"
      ],
      "text/plain": [
       "  ユーザーID  年齢   住所 血液型\n",
       "0     佐藤  21   東京   A\n",
       "1     田中  35  神奈川   A\n",
       "2     鈴木  23   埼玉  AB"
      ]
     },
     "execution_count": 16,
     "metadata": {},
     "output_type": "execute_result"
    }
   ],
   "source": [
    "df.loc[[0,1,2],:]"
   ]
  },
  {
   "cell_type": "code",
   "execution_count": 18,
   "id": "ccc61c3c-3958-4b1a-924b-e3bb31615f27",
   "metadata": {},
   "outputs": [
    {
     "data": {
      "text/html": [
       "<div>\n",
       "<style scoped>\n",
       "    .dataframe tbody tr th:only-of-type {\n",
       "        vertical-align: middle;\n",
       "    }\n",
       "\n",
       "    .dataframe tbody tr th {\n",
       "        vertical-align: top;\n",
       "    }\n",
       "\n",
       "    .dataframe thead th {\n",
       "        text-align: right;\n",
       "    }\n",
       "</style>\n",
       "<table border=\"1\" class=\"dataframe\">\n",
       "  <thead>\n",
       "    <tr style=\"text-align: right;\">\n",
       "      <th></th>\n",
       "      <th>年齢</th>\n",
       "      <th>住所</th>\n",
       "    </tr>\n",
       "  </thead>\n",
       "  <tbody>\n",
       "    <tr>\n",
       "      <th>2</th>\n",
       "      <td>23</td>\n",
       "      <td>埼玉</td>\n",
       "    </tr>\n",
       "    <tr>\n",
       "      <th>3</th>\n",
       "      <td>18</td>\n",
       "      <td>千葉</td>\n",
       "    </tr>\n",
       "  </tbody>\n",
       "</table>\n",
       "</div>"
      ],
      "text/plain": [
       "   年齢  住所\n",
       "2  23  埼玉\n",
       "3  18  千葉"
      ]
     },
     "execution_count": 18,
     "metadata": {},
     "output_type": "execute_result"
    }
   ],
   "source": [
    "df.iloc[[2,3],[1,2]]"
   ]
  },
  {
   "cell_type": "code",
   "execution_count": 19,
   "id": "88eaeca1-97d9-4f51-b554-cf9f6cc079b3",
   "metadata": {},
   "outputs": [
    {
     "data": {
      "text/plain": [
       "0     True\n",
       "1     True\n",
       "2     True\n",
       "3    False\n",
       "Name: 年齢, dtype: bool"
      ]
     },
     "execution_count": 19,
     "metadata": {},
     "output_type": "execute_result"
    }
   ],
   "source": [
    "df['年齢']>=20"
   ]
  },
  {
   "cell_type": "code",
   "execution_count": 22,
   "id": "92972c9e-64e5-49ac-8041-d1e5b5dafd10",
   "metadata": {},
   "outputs": [
    {
     "data": {
      "text/html": [
       "<div>\n",
       "<style scoped>\n",
       "    .dataframe tbody tr th:only-of-type {\n",
       "        vertical-align: middle;\n",
       "    }\n",
       "\n",
       "    .dataframe tbody tr th {\n",
       "        vertical-align: top;\n",
       "    }\n",
       "\n",
       "    .dataframe thead th {\n",
       "        text-align: right;\n",
       "    }\n",
       "</style>\n",
       "<table border=\"1\" class=\"dataframe\">\n",
       "  <thead>\n",
       "    <tr style=\"text-align: right;\">\n",
       "      <th></th>\n",
       "      <th>ユーザーID</th>\n",
       "      <th>年齢</th>\n",
       "      <th>住所</th>\n",
       "      <th>血液型</th>\n",
       "    </tr>\n",
       "  </thead>\n",
       "  <tbody>\n",
       "    <tr>\n",
       "      <th>0</th>\n",
       "      <td>佐藤</td>\n",
       "      <td>21</td>\n",
       "      <td>東京</td>\n",
       "      <td>A</td>\n",
       "    </tr>\n",
       "    <tr>\n",
       "      <th>1</th>\n",
       "      <td>田中</td>\n",
       "      <td>35</td>\n",
       "      <td>神奈川</td>\n",
       "      <td>A</td>\n",
       "    </tr>\n",
       "  </tbody>\n",
       "</table>\n",
       "</div>"
      ],
      "text/plain": [
       "  ユーザーID  年齢   住所 血液型\n",
       "0     佐藤  21   東京   A\n",
       "1     田中  35  神奈川   A"
      ]
     },
     "execution_count": 22,
     "metadata": {},
     "output_type": "execute_result"
    }
   ],
   "source": [
    "df[(df['血液型']=='A')&(df['年齢']>=20)]"
   ]
  },
  {
   "cell_type": "code",
   "execution_count": 1,
   "id": "e1730d0c-ffad-46cb-81c5-e2e697f5c6e0",
   "metadata": {},
   "outputs": [
    {
     "ename": "AttributeError",
     "evalue": "'_tkinter.tkapp' object has no attribute 'geomentry'",
     "output_type": "error",
     "traceback": [
      "\u001b[0;31m---------------------------------------------------------------------------\u001b[0m",
      "\u001b[0;31mAttributeError\u001b[0m                            Traceback (most recent call last)",
      "Cell \u001b[0;32mIn[1], line 14\u001b[0m\n\u001b[1;32m     12\u001b[0m win\u001b[38;5;241m=\u001b[39mtk\u001b[38;5;241m.\u001b[39mTk()\n\u001b[1;32m     13\u001b[0m win\u001b[38;5;241m.\u001b[39mtitle(\u001b[38;5;124m\"\u001b[39m\u001b[38;5;124m割り勘アプリ\u001b[39m\u001b[38;5;124m\"\u001b[39m)\n\u001b[0;32m---> 14\u001b[0m win\u001b[38;5;241m.\u001b[39mgeomentry(\u001b[38;5;124m\"\u001b[39m\u001b[38;5;124m500x250\u001b[39m\u001b[38;5;124m\"\u001b[39m)\n\u001b[1;32m     16\u001b[0m labeltotal\u001b[38;5;241m=\u001b[39mtk\u001b[38;5;241m.\u001b[39mLabel(win,text\u001b[38;5;241m=\u001b[39m\u001b[38;5;124mu\u001b[39m\u001b[38;5;124m'\u001b[39m\u001b[38;5;124m合計金額:\u001b[39m\u001b[38;5;124m'\u001b[39m)\n\u001b[1;32m     17\u001b[0m labeltotal\u001b[38;5;241m.\u001b[39mpack()\n",
      "File \u001b[0;32m/opt/anaconda3/lib/python3.11/tkinter/__init__.py:2410\u001b[0m, in \u001b[0;36mTk.__getattr__\u001b[0;34m(self, attr)\u001b[0m\n\u001b[1;32m   2408\u001b[0m \u001b[38;5;28;01mdef\u001b[39;00m \u001b[38;5;21m__getattr__\u001b[39m(\u001b[38;5;28mself\u001b[39m, attr):\n\u001b[1;32m   2409\u001b[0m     \u001b[38;5;124m\"\u001b[39m\u001b[38;5;124mDelegate attribute access to the interpreter object\u001b[39m\u001b[38;5;124m\"\u001b[39m\n\u001b[0;32m-> 2410\u001b[0m     \u001b[38;5;28;01mreturn\u001b[39;00m \u001b[38;5;28mgetattr\u001b[39m(\u001b[38;5;28mself\u001b[39m\u001b[38;5;241m.\u001b[39mtk, attr)\n",
      "\u001b[0;31mAttributeError\u001b[0m: '_tkinter.tkapp' object has no attribute 'geomentry'"
     ]
    }
   ],
   "source": [
    "import tkinter as tk\n",
    "from tkinter import messagebox as mbox\n",
    "\n",
    "def cal():\n",
    "    total =float(texttotal.get())\n",
    "    number_of_people=float(textpeople.get())\n",
    "    split_the_bill=total/number_of_people\n",
    "\n",
    "    s=f\"一人あたり{split_the_bill}円\".format()\n",
    "    labelResult['text']=s\n",
    "\n",
    "win=tk.Tk()\n",
    "win.title(\"割り勘アプリ\")\n",
    "win.geomentry(\"500x250\")\n",
    "\n",
    "labeltotal=tk.Label(win,text=u'合計金額:')\n",
    "labeltotal.pack()\n",
    "\n",
    "labelpeople=tk.Label(win,text=u'人数:')\n",
    "labelpeople.pack()\n",
    "\n",
    "labelResult=tk.Label(win,text=u'---')\n",
    "labelResult.pack()\n",
    "\n",
    "calcButton = tk.Button(win, text=u'結果を見る')\n",
    "calcButton[\"command\"] = calc\n",
    "calcButton.pack()\n",
    "\n",
    "texttotal = tk.Entry(win)\n",
    "texttotal.insert(tk.END, input('合計金額:'))\n",
    "texttotal.pack()\n",
    "\n",
    "textpeople = tk.Entry(win)\n",
    "textpeople.insert(tk.END, input('割る人数:'))\n",
    "textpeople.pack()\n",
    "\n",
    "win.mainloop()\n"
   ]
  },
  {
   "cell_type": "code",
   "execution_count": 1,
   "id": "becc1937-bab9-44ae-a498-3fc19fc192dc",
   "metadata": {},
   "outputs": [
    {
     "ename": "SyntaxError",
     "evalue": "invalid syntax (747777678.py, line 1)",
     "output_type": "error",
     "traceback": [
      "\u001b[0;36m  Cell \u001b[0;32mIn[1], line 1\u001b[0;36m\u001b[0m\n\u001b[0;31m    $ conda install tk\u001b[0m\n\u001b[0m    ^\u001b[0m\n\u001b[0;31mSyntaxError\u001b[0m\u001b[0;31m:\u001b[0m invalid syntax\n"
     ]
    }
   ],
   "source": [
    "$ conda install tk"
   ]
  },
  {
   "cell_type": "code",
   "execution_count": 3,
   "id": "fb008131-bd81-4925-80f0-d8f1fe506a40",
   "metadata": {},
   "outputs": [
    {
     "ename": "SyntaxError",
     "evalue": "invalid syntax (2764589753.py, line 1)",
     "output_type": "error",
     "traceback": [
      "\u001b[0;36m  Cell \u001b[0;32mIn[3], line 1\u001b[0;36m\u001b[0m\n\u001b[0;31m    python3 -m tkinter\u001b[0m\n\u001b[0m               ^\u001b[0m\n\u001b[0;31mSyntaxError\u001b[0m\u001b[0;31m:\u001b[0m invalid syntax\n"
     ]
    }
   ],
   "source": [
    "python3 -m tkinter"
   ]
  },
  {
   "cell_type": "code",
   "execution_count": 4,
   "id": "8e6b0cf9-0182-4528-ba49-a6684a6e11cb",
   "metadata": {},
   "outputs": [],
   "source": [
    "import tkinter as tk\n",
    "root = tk.Tk()\n",
    "root.title(\"Frame\")\n",
    "root.geometry(\"300x300\")\n",
    "frame = tk.Frame(root)\n",
    "frame.grid(row=0,column=1)\n",
    "entry = tk.Entry(frame)\n",
    "var=tk.StringVar()\n",
    "def btnclick():\n",
    "    var.set(entry.get())\n",
    "label = tk.Label(frame, textvariable=var)\n",
    "button = tk.Button(frame, text='ボタン',command=btnclick)\n",
    "label.grid(row=0,column=2)\n",
    "entry.grid(row=1,column=2)\n",
    "button.grid(row=2,column=2)\n",
    "root.mainloop()"
   ]
  },
  {
   "cell_type": "code",
   "execution_count": 1,
   "id": "faa53354-35fb-437f-b64d-b3c2e06534a7",
   "metadata": {},
   "outputs": [],
   "source": [
    "import tkinter \n",
    "tkinter._test()"
   ]
  },
  {
   "cell_type": "code",
   "execution_count": 8,
   "id": "f8c4038f-00df-4f93-b24a-3dae0d14ec31",
   "metadata": {},
   "outputs": [],
   "source": [
    "from tkinter import*\n",
    "from tkinter import ttk\n",
    "\n",
    "root=Tk()\n",
    "root.title(\"初めてのtkinter\")\n",
    "\n",
    "label = ttk.Label(root,text='Hello')\n",
    "entry = ttk.Entry(root)\n",
    "button = ttk.Button(root,text='OK')\n",
    "\n",
    "label.pack()\n",
    "entry.pack()\n",
    "button.pack()\n",
    "\n",
    "root.mainloop()"
   ]
  },
  {
   "cell_type": "code",
   "execution_count": 18,
   "id": "a3122bb4-1988-460f-b239-06b123c9d31b",
   "metadata": {},
   "outputs": [
    {
     "ename": "TclError",
     "evalue": "image \"pyimage6\" doesn't exist",
     "output_type": "error",
     "traceback": [
      "\u001b[0;31m---------------------------------------------------------------------------\u001b[0m",
      "\u001b[0;31mTclError\u001b[0m                                  Traceback (most recent call last)",
      "Cell \u001b[0;32mIn[18], line 8\u001b[0m\n\u001b[1;32m      5\u001b[0m root\u001b[38;5;241m.\u001b[39mtitle(\u001b[38;5;124m\"\u001b[39m\u001b[38;5;124m初めてのtkinter\u001b[39m\u001b[38;5;124m\"\u001b[39m)\n\u001b[1;32m      7\u001b[0m pomeranianphoto \u001b[38;5;241m=\u001b[39m PhotoImage(file\u001b[38;5;241m=\u001b[39m\u001b[38;5;124m'\u001b[39m\u001b[38;5;124m/Users/mkyt/Desktop/my pandas/WIC speech contest.png\u001b[39m\u001b[38;5;124m'\u001b[39m)\n\u001b[0;32m----> 8\u001b[0m label \u001b[38;5;241m=\u001b[39m ttk\u001b[38;5;241m.\u001b[39mLabel(\n\u001b[1;32m      9\u001b[0m     root,\n\u001b[1;32m     10\u001b[0m     text\u001b[38;5;241m=\u001b[39m\u001b[38;5;124m'\u001b[39m\u001b[38;5;124mポメラニアンめっちゃ可愛い\u001b[39m\u001b[38;5;124m'\u001b[39m,\n\u001b[1;32m     11\u001b[0m     foreground\u001b[38;5;241m=\u001b[39m\u001b[38;5;124m'\u001b[39m\u001b[38;5;124m#1155ee\u001b[39m\u001b[38;5;124m'\u001b[39m,\n\u001b[1;32m     12\u001b[0m     padding\u001b[38;5;241m=\u001b[39m(\u001b[38;5;241m5\u001b[39m,\u001b[38;5;241m10\u001b[39m),\n\u001b[1;32m     13\u001b[0m     font\u001b[38;5;241m=\u001b[39m(\u001b[38;5;124m\"\u001b[39m\u001b[38;5;124mTimes New Roman\u001b[39m\u001b[38;5;124m\"\u001b[39m,\u001b[38;5;241m20\u001b[39m),\n\u001b[1;32m     14\u001b[0m     image\u001b[38;5;241m=\u001b[39mpomeranianphoto,\n\u001b[1;32m     15\u001b[0m     compound\u001b[38;5;241m=\u001b[39m\u001b[38;5;124m'\u001b[39m\u001b[38;5;124mright\u001b[39m\u001b[38;5;124m'\u001b[39m)\n\u001b[1;32m     16\u001b[0m entry \u001b[38;5;241m=\u001b[39m ttk\u001b[38;5;241m.\u001b[39mEntry(root)\n\u001b[1;32m     17\u001b[0m button \u001b[38;5;241m=\u001b[39m ttk\u001b[38;5;241m.\u001b[39mButton(root,text\u001b[38;5;241m=\u001b[39m\u001b[38;5;124m'\u001b[39m\u001b[38;5;124mそれな\u001b[39m\u001b[38;5;124m'\u001b[39m)   \n",
      "File \u001b[0;32m/opt/anaconda3/lib/python3.11/tkinter/ttk.py:729\u001b[0m, in \u001b[0;36mLabel.__init__\u001b[0;34m(self, master, **kw)\u001b[0m\n\u001b[1;32m    716\u001b[0m \u001b[38;5;28;01mdef\u001b[39;00m \u001b[38;5;21m__init__\u001b[39m(\u001b[38;5;28mself\u001b[39m, master\u001b[38;5;241m=\u001b[39m\u001b[38;5;28;01mNone\u001b[39;00m, \u001b[38;5;241m*\u001b[39m\u001b[38;5;241m*\u001b[39mkw):\n\u001b[1;32m    717\u001b[0m \u001b[38;5;250m    \u001b[39m\u001b[38;5;124;03m\"\"\"Construct a Ttk Label with parent master.\u001b[39;00m\n\u001b[1;32m    718\u001b[0m \n\u001b[1;32m    719\u001b[0m \u001b[38;5;124;03m    STANDARD OPTIONS\u001b[39;00m\n\u001b[0;32m   (...)\u001b[0m\n\u001b[1;32m    727\u001b[0m \u001b[38;5;124;03m        relief, text, wraplength\u001b[39;00m\n\u001b[1;32m    728\u001b[0m \u001b[38;5;124;03m    \"\"\"\u001b[39;00m\n\u001b[0;32m--> 729\u001b[0m     Widget\u001b[38;5;241m.\u001b[39m\u001b[38;5;21m__init__\u001b[39m(\u001b[38;5;28mself\u001b[39m, master, \u001b[38;5;124m\"\u001b[39m\u001b[38;5;124mttk::label\u001b[39m\u001b[38;5;124m\"\u001b[39m, kw)\n",
      "File \u001b[0;32m/opt/anaconda3/lib/python3.11/tkinter/ttk.py:527\u001b[0m, in \u001b[0;36mWidget.__init__\u001b[0;34m(self, master, widgetname, kw)\u001b[0m\n\u001b[1;32m    507\u001b[0m \u001b[38;5;250m\u001b[39m\u001b[38;5;124;03m\"\"\"Constructs a Ttk Widget with the parent master.\u001b[39;00m\n\u001b[1;32m    508\u001b[0m \n\u001b[1;32m    509\u001b[0m \u001b[38;5;124;03mSTANDARD OPTIONS\u001b[39;00m\n\u001b[0;32m   (...)\u001b[0m\n\u001b[1;32m    524\u001b[0m \u001b[38;5;124;03m    readonly, alternate, invalid\u001b[39;00m\n\u001b[1;32m    525\u001b[0m \u001b[38;5;124;03m\"\"\"\u001b[39;00m\n\u001b[1;32m    526\u001b[0m master \u001b[38;5;241m=\u001b[39m setup_master(master)\n\u001b[0;32m--> 527\u001b[0m tkinter\u001b[38;5;241m.\u001b[39mWidget\u001b[38;5;241m.\u001b[39m\u001b[38;5;21m__init__\u001b[39m(\u001b[38;5;28mself\u001b[39m, master, widgetname, kw\u001b[38;5;241m=\u001b[39mkw)\n",
      "File \u001b[0;32m/opt/anaconda3/lib/python3.11/tkinter/__init__.py:2628\u001b[0m, in \u001b[0;36mBaseWidget.__init__\u001b[0;34m(self, master, widgetName, cnf, kw, extra)\u001b[0m\n\u001b[1;32m   2626\u001b[0m \u001b[38;5;28;01mfor\u001b[39;00m k, v \u001b[38;5;129;01min\u001b[39;00m classes:\n\u001b[1;32m   2627\u001b[0m     \u001b[38;5;28;01mdel\u001b[39;00m cnf[k]\n\u001b[0;32m-> 2628\u001b[0m \u001b[38;5;28mself\u001b[39m\u001b[38;5;241m.\u001b[39mtk\u001b[38;5;241m.\u001b[39mcall(\n\u001b[1;32m   2629\u001b[0m     (widgetName, \u001b[38;5;28mself\u001b[39m\u001b[38;5;241m.\u001b[39m_w) \u001b[38;5;241m+\u001b[39m extra \u001b[38;5;241m+\u001b[39m \u001b[38;5;28mself\u001b[39m\u001b[38;5;241m.\u001b[39m_options(cnf))\n\u001b[1;32m   2630\u001b[0m \u001b[38;5;28;01mfor\u001b[39;00m k, v \u001b[38;5;129;01min\u001b[39;00m classes:\n\u001b[1;32m   2631\u001b[0m     k\u001b[38;5;241m.\u001b[39mconfigure(\u001b[38;5;28mself\u001b[39m, v)\n",
      "\u001b[0;31mTclError\u001b[0m: image \"pyimage6\" doesn't exist"
     ]
    }
   ],
   "source": [
    "from tkinter import*\n",
    "from tkinter import ttk\n",
    "\n",
    "root=Tk()\n",
    "root.title(\"初めてのtkinter\")\n",
    "\n",
    "pomeranianphoto = PhotoImage(file='/Users/mkyt/Desktop/my pandas/')\n",
    "label = ttk.Label(\n",
    "    root,\n",
    "    text='ポメラニアンめっちゃ可愛い',\n",
    "    foreground='#1155ee',\n",
    "    padding=(5,10),\n",
    "    font=(\"Times New Roman\",20),\n",
    "    image=pomeranianphoto,\n",
    "    compound='right')\n",
    "entry = ttk.Entry(root)\n",
    "button = ttk.Button(root,text='それな')   \n",
    "\n",
    "label.pack()\n",
    "entry.pack()\n",
    "button.pack()\n",
    "\n",
    "root.mainloop()\n"
   ]
  },
  {
   "cell_type": "code",
   "execution_count": null,
   "id": "ec66fceb-2b41-4244-9a48-dd0f8262b018",
   "metadata": {},
   "outputs": [],
   "source": []
  }
 ],
 "metadata": {
  "kernelspec": {
   "display_name": "Python 3 (ipykernel)",
   "language": "python",
   "name": "python3"
  },
  "language_info": {
   "codemirror_mode": {
    "name": "ipython",
    "version": 3
   },
   "file_extension": ".py",
   "mimetype": "text/x-python",
   "name": "python",
   "nbconvert_exporter": "python",
   "pygments_lexer": "ipython3",
   "version": "3.11.7"
  }
 },
 "nbformat": 4,
 "nbformat_minor": 5
}
